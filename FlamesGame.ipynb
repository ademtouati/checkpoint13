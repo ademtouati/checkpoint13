{
 "cells": [
  {
   "cell_type": "code",
   "execution_count": 5,
   "id": "7fd11a71",
   "metadata": {},
   "outputs": [
    {
     "name": "stdout",
     "output_type": "stream",
     "text": [
      "Give me first name ?\n",
      "adem\n",
      "Give me second name ?\n",
      "safa\n"
     ]
    }
   ],
   "source": [
    "def askforname(i):\n",
    "    if(i==1):\n",
    "        Name1=str(input(\"Give me first name ?\\n\"))\n",
    "    else:\n",
    "        Name1=str(input(\"Give me second name ?\\n\"))\n",
    "    return list(Name1)\n",
    "Name1=askforname(1) \n",
    "Name2=askforname(2)"
   ]
  },
  {
   "cell_type": "code",
   "execution_count": 6,
   "id": "28891e65",
   "metadata": {},
   "outputs": [],
   "source": [
    "def deletecommon(Name1,Name2):\n",
    "    for same in Name1:\n",
    "        if same in Name2:\n",
    "            Name1.remove(same)\n",
    "            Name2.remove(same)\n",
    "    allwords=len(Name1)+len(Name2)\n",
    "    return allwords\n",
    "allwords = deletecommon(Name1,Name2)"
   ]
  },
  {
   "cell_type": "code",
   "execution_count": 7,
   "id": "cde53e2a",
   "metadata": {},
   "outputs": [
    {
     "data": {
      "text/plain": [
       "['M']"
      ]
     },
     "execution_count": 7,
     "metadata": {},
     "output_type": "execute_result"
    }
   ],
   "source": [
    "def result(allwords):\n",
    "    FLAMES  = [\"F\",\"A\",\"L\",\"M\",\"E\",\"S\"]\n",
    "    Flame ={\"F\": \"Friends\",\"L\": \"Love\",\"A\": \"Affection\",\"M\":\"Marriage\",\"E\":\"Enemy\",\"S\":\"Siblings\"}\n",
    "    while len(FLAMES)>1:\n",
    "        index=allwords%len(FLAMES)-1\n",
    "        if index>=0:\n",
    "            Right=FLAMES[index+1:]\n",
    "            Left=FLAMES[:index]\n",
    "            FLAMES=Right+Left\n",
    "        else:\n",
    "            FLAMES=FLAMES[:len(FLAMES)-1]\n",
    "    return FLAMES\n",
    "result(allwords)"
   ]
  },
  {
   "cell_type": "code",
   "execution_count": null,
   "id": "49635cdd",
   "metadata": {},
   "outputs": [],
   "source": []
  }
 ],
 "metadata": {
  "kernelspec": {
   "display_name": "Python 3 (ipykernel)",
   "language": "python",
   "name": "python3"
  },
  "language_info": {
   "codemirror_mode": {
    "name": "ipython",
    "version": 3
   },
   "file_extension": ".py",
   "mimetype": "text/x-python",
   "name": "python",
   "nbconvert_exporter": "python",
   "pygments_lexer": "ipython3",
   "version": "3.9.12"
  }
 },
 "nbformat": 4,
 "nbformat_minor": 5
}
